{
 "cells": [
  {
   "cell_type": "markdown",
   "id": "17d1b7f4",
   "metadata": {},
   "source": [
    "Анализ данных - Лабораторная 3"
   ]
  },
  {
   "cell_type": "code",
   "execution_count": 15,
   "id": "bb4abebd",
   "metadata": {
    "scrolled": true
   },
   "outputs": [
    {
     "name": "stdout",
     "output_type": "stream",
     "text": [
      "Введите строку через пробел >>>sss\n",
      "Введите подстроку через пробел >>>s\n",
      "Кол-во найденных вхождений  3\n"
     ]
    }
   ],
   "source": [
    "#Задание 1\n",
    "import re\n",
    "def search_substr(st,sm):\n",
    "    return len((re.findall(sm,st,re.IGNORECASE)))\n",
    "st=input(\"Введите строку >>>\")\n",
    "sm=input(\"Введите подстроку >>>\")\n",
    "cnt=search_substr(st,sm)\n",
    "print(\"Кол-во найденных вхождений \",cnt)"
   ]
  },
  {
   "cell_type": "code",
   "execution_count": 32,
   "id": "fcf0f841",
   "metadata": {},
   "outputs": [
    {
     "name": "stdout",
     "output_type": "stream",
     "text": [
      "Введите строку >>>abbaabobahz\n",
      "Введите букву >>>A\n",
      "Введите букву >>>b\n",
      "Вхождений для символа  A  не найдено\n",
      "Символ  b  Индекс первого вхождения -  1 ; предпоследнего -  5\n"
     ]
    }
   ],
   "source": [
    "#Задание 2\n",
    "import re\n",
    "def searchSymb(sm1,sm2,st):\n",
    "    ind1=[m.start() for m in re.finditer(sm1,st)]\n",
    "    ind2=[m.start() for m in re.finditer(sm2,st)]\n",
    "    try:\n",
    "        print(\"Символ \",sm1,\" Индекс первого вхождения - \",ind1[0],\"; предпоследнего - \",ind1[len(ind1)-2])        \n",
    "    except IndexError:\n",
    "        print(\"Вхождений для символа \",sm1,\" не найдено\")\n",
    "    try:\n",
    "        print(\"Символ \",sm2,\" Индекс первого вхождения - \",ind2[0],\"; предпоследнего - \",ind2[len(ind2)-2])\n",
    "    except IndexError:\n",
    "        print(\"Вхождений для символа \",sm2,\" не найдено\")\n",
    "        \n",
    "    \n",
    "st=input(\"Введите строку >>>\")\n",
    "sm1=input(\"Введите букву >>>\")\n",
    "sm2=input(\"Введите букву >>>\")\n",
    "indexes=searchSymb(sm1,sm2,st)\n"
   ]
  },
  {
   "cell_type": "code",
   "execution_count": 65,
   "id": "6555df08",
   "metadata": {},
   "outputs": [
    {
     "name": "stdout",
     "output_type": "stream",
     "text": [
      "Исходный текст:  В химии основание можно определить как вещество, которое диссоциирует в водном растворе с образованием гидроксид ионов. Слабое основание - это основание, которое не полностью распадается на составляющие ионы при растворении в растворе. Некоторые части слабого основания диссоциируют на ионы гидроксида, в то время как некоторые остаются недиссоциированными внутри водного раствора.\n",
      "Слова, содержащие не менее 3-х символов:  ['химии', 'основание', 'можно', 'определить', 'как', 'вещество', 'которое', 'диссоциирует', 'водном', 'растворе', 'образованием', 'гидроксид', 'ионов', 'Слабое', 'основание', 'это', 'основание', 'которое', 'полностью', 'распадается', 'составляющие', 'ионы', 'при', 'растворении', 'растворе', 'Некоторые', 'части', 'слабого', 'основания', 'диссоциируют', 'ионы', 'гидроксида', 'время', 'как', 'некоторые', 'остаются', 'недиссоциированными', 'внутри', 'водного', 'раствора']\n",
      "Наиболее часто встречающиеся слова:  [('основание', 3), ('как', 2)]\n"
     ]
    }
   ],
   "source": [
    "#Задание 3\n",
    "import string\n",
    "from collections import Counter\n",
    "text = \"В химии основание можно определить как вещество, которое диссоциирует в водном растворе с образованием гидроксид ионов. Слабое основание - это основание, которое не полностью распадается на составляющие ионы при растворении в растворе. Некоторые части слабого основания диссоциируют на ионы гидроксида, в то время как некоторые остаются недиссоциированными внутри водного раствора.\"\n",
    "punctless=text.translate(str.maketrans(\"\",\"\",string.punctuation))\n",
    "words=[word for word in punctless.split() if len(word) >= 3]\n",
    "cnt=Counter(words)\n",
    "mostComm=cnt.most_common(2)\n",
    "print(\"Исходный текст: \",text)\n",
    "print(\"Слова, содержащие не менее 3-х символов: \",words)\n",
    "print(\"Наиболее часто встречающиеся слова: \",mostComm)"
   ]
  },
  {
   "cell_type": "code",
   "execution_count": 87,
   "id": "98c8f3d7",
   "metadata": {},
   "outputs": [
    {
     "name": "stdout",
     "output_type": "stream",
     "text": [
      "Знаки препинания в первом тексте  Counter({',': 3, '.': 3, '-': 1})\n",
      "Знаки препинания во втором тексте  Counter({',': 7, '.': 6})\n",
      "Во втором тексте больше знаков препинания.\n",
      "Количество слов в первом тексте  40\n",
      "Количество слов во втором тексте  46\n",
      "Во втором тексте больше слов.\n",
      "Количество предложений в первом тексте  4\n",
      "Количество предложений во втором тексте  7\n",
      "Во втором тексте больше предложений.\n"
     ]
    }
   ],
   "source": [
    "#Задание 4\n",
    "import string\n",
    "from collections import Counter\n",
    "count = lambda l1,l2: sum([1 for x in l1 if x in l2])\n",
    "text1 = \"В химии основание можно определить как вещество, которое диссоциирует в водном растворе с образованием гидроксид ионов. Слабое основание - это основание, которое не полностью распадается на составляющие ионы при растворении в растворе. Некоторые части слабого основания диссоциируют на ионы гидроксида, в то время как некоторые остаются недиссоциированными внутри водного раствора.\"\n",
    "text2=\"Lorem ipsum dolor sit amet, consectetur adipiscing elit. Suspendisse sollicitudin risus non gravida pretium. Cras eleifend, nibh id facilisis maximus, urna mauris auctor urna, vel finibus nulla nisi ac orci. Sed sit amet tincidunt tortor, in suscipit metus. Vivamus sit amet dolor tristique, varius neque a, maximus odio. Nullam vehicula.\"\n",
    "punc1=Counter(c for line in text1 for c in line if c in punctuation)\n",
    "punc2=Counter(c for line in text2 for c in line if c in punctuation)\n",
    "print(\"Знаки препинания в первом тексте \",punc1)\n",
    "print(\"Знаки препинания во втором тексте \",punc2)\n",
    "if sum(punc1.values())>sum(punc2.values()):\n",
    "    print(\"В первом тексте больше знаков препинания.\")\n",
    "else:\n",
    "    print(\"Во втором тексте больше знаков препинания.\")\n",
    "punctless1=text1.translate(str.maketrans(\"\",\"\",string.punctuation))\n",
    "punctless2=text2.translate(str.maketrans(\"\",\"\",string.punctuation))\n",
    "words1=[word for word in punctless1.split() if len(word) >= 3]\n",
    "words2=[word for word in punctless2.split() if len(word) >= 3]\n",
    "cnt1=sum(Counter(words1).values())\n",
    "cnt2=sum(Counter(words2).values())\n",
    "print(\"Количество слов в первом тексте \",cnt1)\n",
    "print(\"Количество слов во втором тексте \",cnt2)\n",
    "if cnt1>cnt2:\n",
    "    print(\"В первом тексте больше слов.\")\n",
    "else:\n",
    "    print(\"Во втором тексте больше слов.\")\n",
    "sent1=len(re.split(r'[.!?]+', text1))\n",
    "sent2=len(re.split(r'[.!?]+', text2))\n",
    "print(\"Количество предложений в первом тексте \",sent1)\n",
    "print(\"Количество предложений во втором тексте \",sent2)\n",
    "if sent1>sent2:\n",
    "    print(\"В первом тексте больше предложений.\")\n",
    "else:\n",
    "    print(\"Во втором тексте больше предложений.\")"
   ]
  },
  {
   "cell_type": "code",
   "execution_count": 27,
   "id": "688cf08a",
   "metadata": {},
   "outputs": [
    {
     "name": "stdout",
     "output_type": "stream",
     "text": [
      "Словарь символ-количество вхождений {'N': 1, 'e': 8, 'q': 5, 'u': 7, 'p': 3, 'o': 7, 'r': 5, 'i': 9, 's': 6, 'a': 4, 'm': 4, 't': 6, 'd': 3, 'l': 3, 'c': 3, 'n': 1, 'v': 1}\n",
      "Словарь символ-код {'e': '/5/', 'u': '/21/', 'o': '/15/', 'i': '/9/', 'a': '/1/', 't': '/20/', 'l': '/12/', 'n': '/14/'}\n",
      "Исходный текст:  Neque porro quisquam est qui dolorem ipsum quia dolor sit amet, consectetur, adipisci velit...\n",
      "Закодированный текст:  N/5/q/21//5/ p/15/rr/15/ q/21//9/sq/21//1/m /5/s/20/ q/21//9/ d/15//12//15/r/5/m /9/ps/21/m q/21//9//1/ d/15//12//15/r s/9//20/ /1/m/5//20/, c/15//14/s/5/c/20//5//20//21/r, /1/d/9/p/9/sc/9/ v/5//12//9//20/...\n"
     ]
    }
   ],
   "source": [
    "#Задание 5\n",
    "from collections import Counter\n",
    "from string import ascii_lowercase\n",
    "import string\n",
    "def alphPos(text):\n",
    "    text = text.lower()\n",
    "\n",
    "    numbers = [LETTERS[character] for character in text if character in LETTERS]\n",
    "\n",
    "    return ' '.join(numbers)\n",
    "text1 = \"Neque porro quisquam est qui dolorem ipsum quia dolor sit amet, consectetur, adipisci velit...\"\n",
    "nospaceorpunct=text1.translate(str.maketrans(\"\",\"\",string.punctuation)).replace(\" \", \"\")\n",
    "symbs=dict(Counter(nospaceorpunct))\n",
    "print(\"Словарь символ-количество вхождений\",symbs)\n",
    "i=0\n",
    "symNum={}\n",
    "for key in symbs:\n",
    "    if(i%2!=0):\n",
    "        symNum[key]=\"/\"+alphPos(key)+\"/\"\n",
    "    \n",
    "    i+=1\n",
    "print(\"Словарь символ-код\",symNum)\n",
    "print(\"Исходный текст: \",text1)\n",
    "for key in symNum:\n",
    "    text1=text1.replace(key,symNum[key])\n",
    "print(\"Закодированный текст: \",text1)\n",
    "\n",
    "        \n",
    "        "
   ]
  },
  {
   "cell_type": "code",
   "execution_count": 9,
   "id": "8380edd7",
   "metadata": {},
   "outputs": [
    {
     "name": "stdout",
     "output_type": "stream",
     "text": [
      "1\n"
     ]
    }
   ],
   "source": []
  },
  {
   "cell_type": "code",
   "execution_count": null,
   "id": "ef484cb6",
   "metadata": {},
   "outputs": [],
   "source": []
  },
  {
   "cell_type": "code",
   "execution_count": null,
   "id": "dd6835d9",
   "metadata": {},
   "outputs": [],
   "source": []
  },
  {
   "cell_type": "code",
   "execution_count": null,
   "id": "5a05c58a",
   "metadata": {},
   "outputs": [],
   "source": []
  }
 ],
 "metadata": {
  "kernelspec": {
   "display_name": "Python 3 (ipykernel)",
   "language": "python",
   "name": "python3"
  },
  "language_info": {
   "codemirror_mode": {
    "name": "ipython",
    "version": 3
   },
   "file_extension": ".py",
   "mimetype": "text/x-python",
   "name": "python",
   "nbconvert_exporter": "python",
   "pygments_lexer": "ipython3",
   "version": "3.11.1"
  }
 },
 "nbformat": 4,
 "nbformat_minor": 5
}
