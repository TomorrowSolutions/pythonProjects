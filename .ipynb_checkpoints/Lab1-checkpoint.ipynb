{
 "cells": [
  {
   "cell_type": "markdown",
   "id": "1b22a042",
   "metadata": {},
   "source": [
    "Анализ данных  - Лабораторная 1"
   ]
  },
  {
   "cell_type": "code",
   "execution_count": 55,
   "id": "81683452",
   "metadata": {
    "scrolled": true
   },
   "outputs": [
    {
     "name": "stdout",
     "output_type": "stream",
     "text": [
      "0.07972662616683954\n"
     ]
    }
   ],
   "source": [
    "#Imports\n",
    "import math\n",
    "\n",
    "#Task1\n",
    "x=1.825\n",
    "y=18.225\n",
    "z=-3.298\n",
    "psi=(y-x)*((y-z)/(y-x))/(1+(pow(y,2)-2*x*y+pow(x,2)))\n",
    "print(psi)"
   ]
  },
  {
   "cell_type": "code",
   "execution_count": 66,
   "id": "e2e86d78",
   "metadata": {},
   "outputs": [
    {
     "name": "stdout",
     "output_type": "stream",
     "text": [
      "Peoples Density calculator\n",
      "Peoples >>>146089062\n",
      "Square >>>17098246\n",
      "8.54409639444888\n"
     ]
    }
   ],
   "source": [
    "#Task2\n",
    "#For Russia sqr=17098246 peoples=146089062\n",
    "print(\"Peoples Density calculator\")\n",
    "in_p=input(\"Peoples >>>\")\n",
    "in_s=input(\"Square >>>\")\n",
    "peoples=int(in_p)\n",
    "square=int(in_s)\n",
    "density=peoples/square\n",
    "print(density)"
   ]
  },
  {
   "cell_type": "code",
   "execution_count": 63,
   "id": "86d16dd8",
   "metadata": {},
   "outputs": [
    {
     "name": "stdout",
     "output_type": "stream",
     "text": [
      "a >>>53\n",
      "t >>>1.7\n",
      "27527.861268064353\n"
     ]
    }
   ],
   "source": [
    "#Task3\n",
    "in_a=input(\"a >>>\")\n",
    "in_t=input(\"t >>>\")\n",
    "a=float(in_a)\n",
    "t=float(in_t)\n",
    "D=9.8*pow(a,2) + 5.52*math.cos(pow(t,5))\n",
    "print(D)"
   ]
  },
  {
   "cell_type": "code",
   "execution_count": 62,
   "id": "b8cb0472",
   "metadata": {},
   "outputs": [
    {
     "name": "stdout",
     "output_type": "stream",
     "text": [
      "w >>>12\n",
      "y >>>36\n",
      "1666.5154017415384\n"
     ]
    }
   ],
   "source": [
    "#Task4\n",
    "in_w=input(\"w >>>\")\n",
    "in_y=input(\"y >>>\")\n",
    "w=float(in_w)\n",
    "y=float(in_y)\n",
    "G=(9.33*pow(w,3)+math.sqrt(w))/(math.log(y+3.5)+math.sqrt(y))\n",
    "print(G)"
   ]
  },
  {
   "cell_type": "code",
   "execution_count": null,
   "id": "d741d878",
   "metadata": {},
   "outputs": [],
   "source": [
    "#Task5 Doesn't work\n",
    "in_y=input(\"y >>>\")\n",
    "in_x=input(\"x >>>\")\n",
    "x=float(in_x)\n",
    "y=float(in_y)\n",
    "hz=math.sin(y+5)\n",
    "temp=math.pow(hz,1/7)\n",
    "F=math.sqrt((4+4*y-pow(y,2))+ math.pow(math.sin(y+5),0.143))/(math.log(x+1)-math.pow(y,3))\n",
    "print(hz)"
   ]
  },
  {
   "cell_type": "code",
   "execution_count": 61,
   "id": "5c574a9f",
   "metadata": {},
   "outputs": [
    {
     "name": "stdout",
     "output_type": "stream",
     "text": [
      "a >>>8\n",
      "b >>>4\n",
      "Число а делится на б\n"
     ]
    }
   ],
   "source": [
    "#Task6 \n",
    "in_a=input(\"a >>>\")\n",
    "in_b=input(\"b >>>\")\n",
    "a=int(in_a)\n",
    "b=int(in_b)\n",
    "if a%b==0 :\n",
    "    print(\"Число а делится на б\")\n",
    "elif b%a==0 :\n",
    "    print(\"Число б делится на а\")\n",
    "else:\n",
    "    print(\"Ни одно из чисел не делится на другое\")"
   ]
  },
  {
   "cell_type": "code",
   "execution_count": 59,
   "id": "3d14e2bf",
   "metadata": {},
   "outputs": [
    {
     "name": "stdout",
     "output_type": "stream",
     "text": [
      "num >>>1337\n",
      "a >>>1\n",
      "z >>>3\n",
      "Число 1 встретилось  1 раз. Количество цифр делящихся на 3 - 2 раз.\n"
     ]
    }
   ],
   "source": [
    "#Task7\n",
    "num=input(\"num >>>\")\n",
    "in_a=input(\"a >>>\")\n",
    "in_z=input(\"z >>>\")\n",
    "a=int(in_a)\n",
    "z=int(in_z)\n",
    "eq=0\n",
    "kr=0\n",
    "if num.isdigit() :\n",
    "    for dig in num:\n",
    "        if int(dig)==a:\n",
    "            eq+=1\n",
    "        if int(dig)%z==0:\n",
    "            kr+=1\n",
    "    print(\"Число {} встретилось  {} раз. Количество цифр делящихся на {} - {} раз.\".format(a,eq,z,kr))\n",
    "else:\n",
    "    print(\"Введено не число/не целое число\")"
   ]
  },
  {
   "cell_type": "code",
   "execution_count": 58,
   "id": "6e649e0a",
   "metadata": {},
   "outputs": [
    {
     "name": "stdout",
     "output_type": "stream",
     "text": [
      "num >>>55555555555\n",
      "Число не четырехзначное\n"
     ]
    }
   ],
   "source": [
    "#Task8\n",
    "in_num=input(\"num >>>\")\n",
    "if in_num.isdigit() :\n",
    "    num=int(in_num)\n",
    "    cnt=0\n",
    "    while num>0:\n",
    "        num //=10\n",
    "        cnt+=1\n",
    "    if cnt==4:\n",
    "        print(\"Число четырехзначное\")\n",
    "    else:\n",
    "        print(\"Число не четырехзначное\")        \n",
    "else:\n",
    "    print(\"Введено не число/не целое число\")"
   ]
  },
  {
   "cell_type": "code",
   "execution_count": 56,
   "id": "231863e4",
   "metadata": {},
   "outputs": [
    {
     "name": "stdout",
     "output_type": "stream",
     "text": [
      "a >>>0\n",
      "b >>>10\n",
      "Сумма =12\n"
     ]
    }
   ],
   "source": [
    "#Task9\n",
    "in_a=input(\"a >>>\")\n",
    "in_b=input(\"b >>>\")\n",
    "if in_a.isdigit() and in_b.isdigit():\n",
    "    a=int(in_a)\n",
    "    b=int(in_b)\n",
    "    sum=0;\n",
    "    for n in range(a,b):\n",
    "        if n%4==0:\n",
    "            sum+=n\n",
    "    print(\"Сумма ={}\".format(sum))\n",
    "else:\n",
    "    print(\"Введено не число/не целое число/не положительное число\")"
   ]
  },
  {
   "cell_type": "code",
   "execution_count": null,
   "id": "087cf182",
   "metadata": {},
   "outputs": [],
   "source": []
  }
 ],
 "metadata": {
  "kernelspec": {
   "display_name": "Python 3 (ipykernel)",
   "language": "python",
   "name": "python3"
  },
  "language_info": {
   "codemirror_mode": {
    "name": "ipython",
    "version": 3
   },
   "file_extension": ".py",
   "mimetype": "text/x-python",
   "name": "python",
   "nbconvert_exporter": "python",
   "pygments_lexer": "ipython3",
   "version": "3.11.1"
  }
 },
 "nbformat": 4,
 "nbformat_minor": 5
}
