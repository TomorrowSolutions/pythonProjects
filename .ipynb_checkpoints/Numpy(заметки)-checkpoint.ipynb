{
 "cells": [
  {
   "cell_type": "markdown",
   "id": "43f6820a",
   "metadata": {},
   "source": [
    "Заметки numpy (массивы и действия с ними)"
   ]
  },
  {
   "cell_type": "code",
   "execution_count": 2,
   "id": "ff9d6cc2",
   "metadata": {},
   "outputs": [],
   "source": [
    "#Импорты\n",
    "import numpy as np"
   ]
  },
  {
   "cell_type": "code",
   "execution_count": 3,
   "id": "75283627",
   "metadata": {},
   "outputs": [
    {
     "name": "stdout",
     "output_type": "stream",
     "text": [
      "[1 2 3]\n"
     ]
    }
   ],
   "source": [
    "#одномерный массив\n",
    "arr1=np.array([1,2,3])\n",
    "print(arr1)\n",
    "arr1[2]=5\n",
    "arr1\n",
    "#одномерный массив с числами от 0 до 20 с шагом в 2(элементов сколько поместиться до границы(невключительно))\n",
    "arrR=np.arange(0,20,2)\n",
    "#одномерный массив из 20 вещественных чисел от 0 до 10(включительно оба)\n",
    "arrL=np.linspace(0,10,20)\n",
    "#одномерный массив из 4 целых чисел от -10 до 10 \n",
    "arrInt=np.random.randint(-10,10,4)"
   ]
  },
  {
   "cell_type": "code",
   "execution_count": 4,
   "id": "61c969d7",
   "metadata": {},
   "outputs": [
    {
     "name": "stdout",
     "output_type": "stream",
     "text": [
      "3\n"
     ]
    },
    {
     "data": {
      "text/plain": [
       "array([[0.11360409, 0.29407882, 0.5579935 , 0.45302322, 0.39631334],\n",
       "       [0.94254838, 0.19955868, 0.53773798, 0.15173206, 0.15468903],\n",
       "       [0.17942096, 0.81554098, 0.17575167, 0.75610091, 0.91160553],\n",
       "       [0.92568894, 0.03152539, 0.25453678, 0.12923871, 0.77883199],\n",
       "       [0.46460615, 0.1766414 , 0.84883668, 0.28027263, 0.73994943]])"
      ]
     },
     "execution_count": 4,
     "metadata": {},
     "output_type": "execute_result"
    }
   ],
   "source": [
    "#двумерный массив 2 строки, 3 столбца\n",
    "arr2=np.array([[1,2,3],[4,5,6]])\n",
    "\n",
    "#Размерность массива (Строки х Столбцы)\n",
    "#print(\"Размер массива\",arr2.shape)\n",
    "\n",
    "#Колво измерений массива\n",
    "#print(\"Колво измерений массива\",arr2.ndim)\n",
    "\n",
    "#Заменить всю вторую строку 5-ками\n",
    "arr2[1]=5\n",
    "#последний элемент 1 строки(arr2[0,2])\n",
    "print(arr2[0,-1])\n",
    "\n",
    "\n",
    "#Двумерные массивы из нулей/единиц размером 10х10\n",
    "#print(np.zeros((10,10)))\n",
    "#print(np.ones((10,10)))\n",
    "\n",
    "#Двумерный массив размера 4х4 с единицами по диагонали\n",
    "#print(np.eye(4))\n",
    "\n",
    "#Двумерный массив размера 5х5(колво переданных чисел) с заданными числами по диагонали\n",
    "#Если в функцию передать двумерный массив, то получим массив из его диагональных чисел\n",
    "#print(np.diag([1,2,3,4,5]))\n",
    "\n",
    "# двумерный массив 3x4 вещественных чисел от 0 до 1\n",
    "arrNM=np.random.rand(5,5)\n",
    "\n",
    "#0 - sum,min,max,median,mean всех значений столбца / 1 - sum,min,max,median,mean всех значений строки\n",
    "#print(arr2)\n",
    "#np.median(arr2,axis=1)\n",
    "arrNM"
   ]
  },
  {
   "cell_type": "code",
   "execution_count": 5,
   "id": "8a3e7069",
   "metadata": {},
   "outputs": [
    {
     "name": "stdout",
     "output_type": "stream",
     "text": [
      "[5 6 7]\n",
      "[1 2 3 4]\n",
      "[2 3 4 5]\n",
      "[5 6 7]\n",
      "[2 4]\n",
      "[1 3 5 7]\n"
     ]
    }
   ],
   "source": [
    "#slice одномерного массива\n",
    "arr = np.array([1, 2, 3, 4, 5, 6, 7])\n",
    "#от 4 элемента(включительно) до конца\n",
    "print(arr[4:]) \n",
    "#от начала до 4 элемента(невключительно)\n",
    "print(arr[:4]) \n",
    "#от 1(включительно) до 5 элемента(невключительно)\n",
    "print(arr[1:5]) \n",
    "#от 3(невключительно) с обратной стороны и до конца\n",
    "print(arr[-3:])\n",
    "#от 1(включительно) до 5 элемента(невключительно) с шагом 2\n",
    "print(arr[1:5:2]) \n",
    "#шаг 3 \n",
    "print(arr[::2]) "
   ]
  },
  {
   "cell_type": "code",
   "execution_count": 6,
   "id": "418b036e",
   "metadata": {},
   "outputs": [
    {
     "name": "stdout",
     "output_type": "stream",
     "text": [
      "[3 8]\n",
      "[[0.53773798]\n",
      " [0.17575167]\n",
      " [0.25453678]\n",
      " [0.84883668]]\n"
     ]
    }
   ],
   "source": [
    "#slice двумерного массива\n",
    "arr = np.array([[1, 2, 3, 4, 5], [6, 7, 8, 9, 10]])\n",
    "#print(arr)\n",
    "#во второй строке элементы от 1 до 4(невключительно)\n",
    "#print(arr[1, 1:4])\n",
    "\n",
    "#От двух строк возвращаем 2 элемент(получается одномерный массив)\n",
    "print(arr[0:2, 2])\n",
    "#От второй строки до конца возвращаем 2 элемент(получается двумерный массив)\n",
    "#P.S. массив см пред пункт\n",
    "print(arrNM[1:,2:3])\n",
    "\n",
    "\n",
    "#От двух строк возвращаем  элементы от 1 до 4(невключительно)\n",
    "#print(arr[0:2, 1:4])\n"
   ]
  },
  {
   "cell_type": "code",
   "execution_count": 7,
   "id": "ecfeeef7",
   "metadata": {},
   "outputs": [
    {
     "data": {
      "text/plain": [
       "array([[1, 2, 3, 4, 5, 6],\n",
       "       [1, 2, 3, 4, 5, 6]])"
      ]
     },
     "execution_count": 7,
     "metadata": {},
     "output_type": "execute_result"
    }
   ],
   "source": [
    "#изменение массивов\n",
    "#добавление\n",
    "arr=np.array([1,2,3,4,5])\n",
    "#массив,индекс,подмассив\n",
    "arr=np.insert(arr,5,[6,7,8,9])\n",
    "#добавляет в конец\n",
    "arr=np.append(arr,0)\n",
    "#удаление\n",
    "#массив,подмассив индексов или один индекс\n",
    "arr=np.delete(arr,[1,3])\n",
    "#объединение\n",
    "arr1=np.array([[1,2,3],[1,2,3]])\n",
    "arr2=np.array([[4,5,6],[4,5,6]])\n",
    "#массив1, массив2, 0/1 - второй массив добавляется как новые строки/столбцы\n",
    "#np.vstack как 0, hstack как 1 \n",
    "arr12=np.concatenate((arr1,arr2),axis=1)\n",
    "arr12"
   ]
  },
  {
   "cell_type": "code",
   "execution_count": 15,
   "id": "8b8256c9",
   "metadata": {},
   "outputs": [
    {
     "name": "stdout",
     "output_type": "stream",
     "text": [
      "[3 4 5]\n",
      "[1 2 3 4 5 6 7]\n",
      "[6 7]\n",
      "[1 2 6 7]\n"
     ]
    }
   ],
   "source": [
    "#Уникальные числа\n",
    "arr=np.array([1,1,1,2,2,2,3,3,3,3])\n",
    "#Массив уникальных чисел\n",
    "np.unique(arr)\n",
    "#число,кол-во вхождений\n",
    "uniques,counts=np.unique(arr,return_counts=True)\n",
    "#сопоставляем\n",
    "#for i in range(0,len(uniques)):\n",
    "#    uniqcount[uniques[i]]=counts[i]\n",
    "#uniqcount\n",
    "\n",
    "#Операции как с множествами\n",
    "arr1=np.array([[1,2,3,4,5]])\n",
    "arr2=np.array([[3,4,5,6,7]])\n",
    "#Пересечение (элементы которые есть в обоих массивах)\n",
    "print(np.intersect1d(arr1,arr2))\n",
    "#Объединение (элементы из обоих массивов без повтора)\n",
    "print(np.union1d(arr1,arr2))\n",
    "#Разность (элементы из первого переданного массива которых нет во втором)\n",
    "print(np.setdiff1d(arr2,arr1))\n",
    "#Разность (элементы из которых нет во втором но есть в первом и которые есть во втором но нет в первом)\n",
    "print(np.setxor1d(arr1,arr2))"
   ]
  },
  {
   "cell_type": "code",
   "execution_count": null,
   "id": "b90540ba",
   "metadata": {},
   "outputs": [],
   "source": []
  },
  {
   "cell_type": "code",
   "execution_count": null,
   "id": "9799dab5",
   "metadata": {},
   "outputs": [],
   "source": []
  }
 ],
 "metadata": {
  "kernelspec": {
   "display_name": "Python 3 (ipykernel)",
   "language": "python",
   "name": "python3"
  },
  "language_info": {
   "codemirror_mode": {
    "name": "ipython",
    "version": 3
   },
   "file_extension": ".py",
   "mimetype": "text/x-python",
   "name": "python",
   "nbconvert_exporter": "python",
   "pygments_lexer": "ipython3",
   "version": "3.10.9"
  }
 },
 "nbformat": 4,
 "nbformat_minor": 5
}
