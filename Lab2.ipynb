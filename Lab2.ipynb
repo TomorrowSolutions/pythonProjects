{
 "cells": [
  {
   "cell_type": "markdown",
   "id": "5de3d435",
   "metadata": {},
   "source": [
    "Анализ данных - Лабораторная 2"
   ]
  },
  {
   "cell_type": "code",
   "execution_count": 8,
   "id": "e6d4270a",
   "metadata": {},
   "outputs": [
    {
     "name": "stdout",
     "output_type": "stream",
     "text": [
      "Исходный массив[2, 2, 2, 0, 4, 5, 0, 4, 2, 1, 4, 4, 4, 3, 4, 0, 2, 3, 4, 2, 0, 2, 0, 5, 0, 2, 3, 5, 5, 4, 0, 4, 2, 3, 2]\n",
      "P = 50625\n",
      "S = 20\n",
      "R = 50645\n"
     ]
    }
   ],
   "source": [
    "#Задание 1\n",
    "import random\n",
    "Z=[]\n",
    "for i in range(35):\n",
    "    Z.append(random.randint(0,5))\n",
    "print(\"Исходный массив\"+str(Z))\n",
    "S=R=0\n",
    "P=1\n",
    "for num in Z:\n",
    "    if ((num%2==0) and (num<3)):\n",
    "       S+=num\n",
    "    if ((num%2!=0) and (num>1)):\n",
    "        P*=num\n",
    "print(\"P = \"+str(P)+\"\\nS = \"+str(S)+\"\\nR = \"+str(S+P))"
   ]
  },
  {
   "cell_type": "code",
   "execution_count": 7,
   "id": "f97f84f7",
   "metadata": {},
   "outputs": [
    {
     "name": "stdout",
     "output_type": "stream",
     "text": [
      "Исходный массив[87, 17, 42, 92, 71, 56, 31, 40, 54, 97, 69, 16, 55, 95, 70, 31, 17, 97, 82, 59]\n",
      "Первые 10 элементов : [87, 17, 42, 92, 71, 56, 31, 40, 54, 97]\n",
      "Последние 10 элементов : [69, 16, 55, 95, 70, 31, 17, 97, 82, 59]\n",
      "Максимум из первых 10 элементов : 97\n",
      "Минимум из последних 10 элементов : 16\n"
     ]
    }
   ],
   "source": [
    "#Задание 2\n",
    "import random\n",
    "A=[]\n",
    "for i in range(20):\n",
    "    A.append(random.randint(1,100))\n",
    "print(\"Исходный массив\"+str(A))\n",
    "print(\"Первые 10 элементов : \"+str(A[:10]))\n",
    "print(\"Последние 10 элементов : \"+str(A[-10:]))\n",
    "print(\"Максимум из первых 10 элементов : \"+str(max(A[:10])))\n",
    "print(\"Минимум из последних 10 элементов : \"+str(min(A[-10:])))"
   ]
  },
  {
   "cell_type": "code",
   "execution_count": 11,
   "id": "ea312691",
   "metadata": {},
   "outputs": [
    {
     "name": "stdout",
     "output_type": "stream",
     "text": [
      "Исходный массив[50, 43, 96, 60, 23, 82, 14, 3, 76, 34, 8, 24, 95, 87, 6, 62, 51, 69, 95, 62, 79, 63, 82, 56, 7]\n",
      "Первые 10 элементов : [50, 43, 96, 60, 23, 82, 14, 3, 76, 34]\n",
      "Среднее арифметическое =  48\n",
      "Кол-во элементов, меньших чем среднее арифметическое :  9\n"
     ]
    }
   ],
   "source": [
    "#Задание 3\n",
    "import random\n",
    "A=[]\n",
    "for i in range(25):\n",
    "    A.append(random.randint(1,100))\n",
    "print(\"Исходный массив\"+str(A))\n",
    "print(\"Первые 10 элементов : \"+str(A[:10]))\n",
    "avg=sum(A[:10])/10\n",
    "print(\"Среднее арифметическое = \", round(avg))\n",
    "cnt=0\n",
    "for num in A:\n",
    "    if num<avg:\n",
    "        cnt+=1\n",
    "print(\"Кол-во элементов, меньших чем среднее арифметическое : \", cnt)"
   ]
  },
  {
   "cell_type": "code",
   "execution_count": 3,
   "id": "9b603309",
   "metadata": {},
   "outputs": [
    {
     "name": "stdout",
     "output_type": "stream",
     "text": [
      "Кол-во элементов массива >>>30\n",
      "Исходный массив [3, -2, 3, -2, 5, 0, -1, -3, 2, 2, 1, 5, -3, 3, 3, 0, 2, 3, -4, -3, -5, 5, 1, 4, -4, 4, -1, -1, -2, -3]\n",
      "Индексы последовательности [23, 22, 21]\n",
      "Измененный массив массив [3, -2, 3, -2, 5, 0, -1, -3, 2, 2, 1, 5, -3, 3, 3, 0, 2, 3, -4, -3, -5, -4, 4, -1, -1, -2, -3]\n"
     ]
    }
   ],
   "source": [
    "#Задание 4\n",
    "import random\n",
    "in_N=input(\"Кол-во элементов массива >>>\")\n",
    "if in_N.isdigit():\n",
    "    N=int(in_N)\n",
    "    A=[]\n",
    "    if N>5:        \n",
    "        for i in range(N):\n",
    "            A.append(random.randint(-5,5))\n",
    "    else:\n",
    "        for i in range(random.randint(5,30)):\n",
    "            A.append(random.randint(-5,5))\n",
    "    print(\"Исходный массив \"+str(A))\n",
    "    indexes=[]\n",
    "    for i in range(len(A)-1,0,-1):\n",
    "        if A[i]>0 and A[i-1]>0:\n",
    "            indexes.append(i)\n",
    "            indexes.append(i-1)            \n",
    "            for j in range(i-2,0,-1):\n",
    "                if A[j]>0:\n",
    "                    indexes.append(j)\n",
    "                else:\n",
    "                    break\n",
    "            break\n",
    "    print(\"Индексы последовательности \" + str(indexes))\n",
    "    for num in indexes:\n",
    "        del A[num]\n",
    "    print(\"Измененный массив массив \"+str(A))\n",
    "else:\n",
    "    print(\"Введено не число\")\n",
    "        \n",
    "    "
   ]
  },
  {
   "cell_type": "code",
   "execution_count": 33,
   "id": "4ab3b030",
   "metadata": {},
   "outputs": [
    {
     "name": "stdout",
     "output_type": "stream",
     "text": [
      "Введите через пробел >>>-12 -23 -22 -11 7 1 2 2 2 -9 -24 -12 -11\n",
      "Исходный массив  [-12, -23, -22, -11, 7, 1, 2, 2, 2, -9, -24, -12, -11]\n",
      "Максимальный элемент  7\n",
      "Найдено 3 групп\n",
      "{'0 3': '-12, -23, -22, -11',\n",
      " '4 8': '7, 1, 2, 2, 2',\n",
      " '9 12': '-9, -24, -12, -11'}\n",
      "Наибольшее кол-во равных элементов у группы с ключом  4 8\n",
      "Преобразованный массив  [-12, -23, -22, -11, 7, -9, -24, -12, -11]\n"
     ]
    }
   ],
   "source": [
    "#Задание 5\n",
    "#1 шаг - выделяем все последовательности\n",
    "import random\n",
    "import pprint\n",
    "from collections import Counter\n",
    "#-12 -23 -22 -11 7 1 2 2 2 -9 -24 -12 -11\n",
    "in_A=input(\"Введите через пробел >>>\")\n",
    "strings=in_A.split(' ')\n",
    "A=list(map(int, strings))\n",
    "print(\"Исходный массив \",A)\n",
    "Amax=max(A)\n",
    "print(\"Максимальный элемент \",Amax)\n",
    "seq={}\n",
    "ind=[]\n",
    "rng=\"\"\n",
    "n=k=i=0#n-итератор по оставшемуся массиву и кол-во найденных элементов, k-номер последовательности, i-итератор в основном цикле \n",
    "while i<(len(A)-1):\n",
    "    if A[i]>0 :\n",
    "        n=1\n",
    "        while (i+n)<(len(A)):\n",
    "            if A[i+n]>0:\n",
    "                ind.append(A[i+n])\n",
    "                n+=1\n",
    "            else:\n",
    "                break       \n",
    "            \n",
    "        if n>=2:\n",
    "            k+=1\n",
    "            rng=str(i)+\" \"+str(i+n-1)\n",
    "            ind.insert(0,A[i])\n",
    "            i=i+(n-1)\n",
    "            seq[rng]=\", \".join(map(str,ind))\n",
    "            ind.clear()\n",
    "        \n",
    "    elif A[i]<0 :\n",
    "        n=1\n",
    "        while (i+n)<(len(A)):\n",
    "            if A[i+n]<0:                \n",
    "                ind.append(A[i+n])\n",
    "                n+=1\n",
    "            else:\n",
    "                break\n",
    "        if n>=2:\n",
    "            k+=1\n",
    "            rng=str(i)+\" \"+str(i+n-1)\n",
    "            ind.insert(0,A[i])\n",
    "            i=i+(n-1)\n",
    "            seq[rng]=\", \".join(map(str,ind))\n",
    "            ind.clear()\n",
    "    i+=1\n",
    "print(\"Найдено \"+str(k)+\" групп\")\n",
    "pprint.pprint(seq)\n",
    "#2 шаг Нахоходим группу с максимальным количеством равных элементов \n",
    "keymax=nummax=tmp=0\n",
    "arr=[]\n",
    "lines=\"\"\n",
    "for key in seq.keys():\n",
    "    lines=seq[key].split(\", \")\n",
    "    arr=list(map(int,lines))\n",
    "    tmp=Counter(arr).most_common(1)[0][1]\n",
    "    if tmp>nummax:\n",
    "        keymax=key\n",
    "        nummax=tmp\n",
    "print(\"Наибольшее кол-во равных элементов у группы с ключом \",keymax)\n",
    "#3 шаг  в начальный  индекс группы помещаем максимальный элемент и удаляем группу из массива без первого ее элемента\n",
    "tmp=keymax.split()\n",
    "kmax=list(map(int,tmp))\n",
    "A[kmax[0]]=Amax\n",
    "del A[kmax[0]+1:kmax[1]+1]\n",
    "print(\"Преобразованный массив \",A)"
   ]
  },
  {
   "cell_type": "code",
   "execution_count": 16,
   "id": "c66dab1e",
   "metadata": {},
   "outputs": [
    {
     "name": "stdout",
     "output_type": "stream",
     "text": [
      "Введите через пробел >>>1 2 3 4 \n",
      "Исходная дробь  4 / 6\n",
      "НОД= 2\n",
      "2/3\n"
     ]
    }
   ],
   "source": [
    "#Задание 6-1\n",
    "def get_nod(a,b):\n",
    "    while a!=b:\n",
    "        if a>b:\n",
    "            a-=b\n",
    "        else:\n",
    "            b-=a\n",
    "    return a\n",
    "        \n",
    "\n",
    "a, b, c, d = map(int, input(\"Введите через пробел >>>\").split())\n",
    "x = a * d\n",
    "y = b * c\n",
    "t = get_nod(x,y)\n",
    "print(\"Исходная дробь \",x,\"/\",y)\n",
    "print(\"НОД=\",t)\n",
    "print(x // t, '/', y // t, sep='')"
   ]
  },
  {
   "cell_type": "code",
   "execution_count": 2,
   "id": "3698007a",
   "metadata": {},
   "outputs": [
    {
     "name": "stdout",
     "output_type": "stream",
     "text": [
      "Введите p1,p2 через пробел1 2\n",
      "Точка P лежит внутри окружности\n",
      "Введите f1,f2 через пробел7 12\n",
      "Точка F лежит не внутри окружности\n",
      "Введите l1,l2 через пробел3 3\n",
      "Точка L лежит внутри окружности\n"
     ]
    }
   ],
   "source": [
    "a = 1 \n",
    "b = 2 \n",
    "R = 10 \n",
    " \n",
    "# Функция для вычисления, что точка лежит внутри окружности (x-a)**2+(y-b)**2=R**2 \n",
    "def Func(x,y): \n",
    "    if (x-a)**2+(y-b)**2<R**2: \n",
    "        return True \n",
    "    else: \n",
    "        return False \n",
    " \n",
    "p1, p2= map(int,input(\"Введите p1,p2 через пробел\").split())  \n",
    "  \n",
    "if Func(p1,p2): \n",
    "    print(\"Точка P лежит внутри окружности\") \n",
    "else: \n",
    "    print(\"Точка P лежит не внутри окружности\") \n",
    " \n",
    "f1, f2 = map(int,input(\"Введите f1,f2 через пробел\").split())  \n",
    "if Func(f1,f2): \n",
    "    print(\"Точка F лежит внутри окружности\") \n",
    "else: \n",
    "    print(\"Точка F лежит не внутри окружности\") \n",
    " \n",
    "l1,l2 = map(int,input(\"Введите l1,l2 через пробел\").split())\n",
    "if Func(l1,l2): \n",
    "    print(\"Точка L лежит внутри окружности\") \n",
    "else: \n",
    "    print(\"Точка L лежит не внутри окружности\")"
   ]
  },
  {
   "cell_type": "code",
   "execution_count": null,
   "id": "6ada4847",
   "metadata": {},
   "outputs": [],
   "source": []
  },
  {
   "cell_type": "code",
   "execution_count": null,
   "id": "dabe5cbe",
   "metadata": {},
   "outputs": [],
   "source": []
  },
  {
   "cell_type": "code",
   "execution_count": null,
   "id": "256f5c16",
   "metadata": {},
   "outputs": [],
   "source": []
  },
  {
   "cell_type": "code",
   "execution_count": null,
   "id": "f2939eb7",
   "metadata": {},
   "outputs": [],
   "source": []
  },
  {
   "cell_type": "code",
   "execution_count": null,
   "id": "2e3483bf",
   "metadata": {},
   "outputs": [],
   "source": []
  }
 ],
 "metadata": {
  "kernelspec": {
   "display_name": "Python 3 (ipykernel)",
   "language": "python",
   "name": "python3"
  },
  "language_info": {
   "codemirror_mode": {
    "name": "ipython",
    "version": 3
   },
   "file_extension": ".py",
   "mimetype": "text/x-python",
   "name": "python",
   "nbconvert_exporter": "python",
   "pygments_lexer": "ipython3",
   "version": "3.11.2"
  }
 },
 "nbformat": 4,
 "nbformat_minor": 5
}
